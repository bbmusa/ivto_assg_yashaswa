{
 "cells": [
  {
   "cell_type": "code",
   "execution_count": 4,
   "metadata": {},
   "outputs": [],
   "source": [
    "# -*- coding: utf-8 -*-\n",
    "\"\"\"\n",
    "Created on Sun Jul 30 12:24:38 2023\n",
    "\n",
    "@author: yswav\n",
    "\"\"\"\n",
    "\n",
    "import pandas as pd\n",
    "import tulipy as ti\n",
    "import numpy as np\n",
    "\n",
    "df = pd.read_excel(\"HINDALCO_1D.xlsx\")\n",
    "open = df['open']\n",
    "high = df['high']\n",
    "low = df['low']\n",
    "close = df['close']\n"
   ]
  },
  {
   "cell_type": "code",
   "execution_count": 5,
   "metadata": {},
   "outputs": [],
   "source": [
    "import pandas as pd\n",
    "import numpy as np\n",
    "import matplotlib.pyplot as plt\n",
    "import requests\n",
    "from math import floor\n",
    "from termcolor import colored as cl\n",
    "\n",
    "plt.style.use('fivethirtyeight')\n",
    "plt.rcParams['figure.figsize'] = (20,10)"
   ]
  },
  {
   "cell_type": "code",
   "execution_count": null,
   "metadata": {},
   "outputs": [],
   "source": []
  },
  {
   "cell_type": "code",
   "execution_count": null,
   "metadata": {},
   "outputs": [],
   "source": []
  },
  {
   "cell_type": "code",
   "execution_count": 9,
   "metadata": {},
   "outputs": [
    {
     "name": "stderr",
     "output_type": "stream",
     "text": [
      "C:\\Users\\yswav\\AppData\\Local\\Temp\\ipykernel_18552\\246321578.py:15: DeprecationWarning: In a future version, `df.iloc[:, i] = newvals` will attempt to set the values inplace instead of always setting a new array. To retain the old behavior, use either `df[df.columns[i]] = newvals` or, if columns are non-unique, `df.isetitem(i, newvals)`\n",
      "  final_bands.iloc[:,1] = final_bands.iloc[:,0]\n"
     ]
    },
    {
     "ename": "KeyError",
     "evalue": "0",
     "output_type": "error",
     "traceback": [
      "\u001b[1;31m---------------------------------------------------------------------------\u001b[0m",
      "\u001b[1;31mValueError\u001b[0m                                Traceback (most recent call last)",
      "File \u001b[1;32mc:\\Users\\yswav\\anaconda3\\lib\\site-packages\\pandas\\core\\indexes\\range.py:391\u001b[0m, in \u001b[0;36mRangeIndex.get_loc\u001b[1;34m(self, key, method, tolerance)\u001b[0m\n\u001b[0;32m    390\u001b[0m \u001b[39mtry\u001b[39;00m:\n\u001b[1;32m--> 391\u001b[0m     \u001b[39mreturn\u001b[39;00m \u001b[39mself\u001b[39;49m\u001b[39m.\u001b[39;49m_range\u001b[39m.\u001b[39;49mindex(new_key)\n\u001b[0;32m    392\u001b[0m \u001b[39mexcept\u001b[39;00m \u001b[39mValueError\u001b[39;00m \u001b[39mas\u001b[39;00m err:\n",
      "\u001b[1;31mValueError\u001b[0m: 0 is not in range",
      "\nThe above exception was the direct cause of the following exception:\n",
      "\u001b[1;31mKeyError\u001b[0m                                  Traceback (most recent call last)",
      "Cell \u001b[1;32mIn[9], line 1\u001b[0m\n\u001b[1;32m----> 1\u001b[0m df[\u001b[39m'\u001b[39m\u001b[39mst\u001b[39m\u001b[39m'\u001b[39m], df[\u001b[39m'\u001b[39m\u001b[39ms_upt\u001b[39m\u001b[39m'\u001b[39m], df[\u001b[39m'\u001b[39m\u001b[39mst_dt\u001b[39m\u001b[39m'\u001b[39m] \u001b[39m=\u001b[39m get_supertrend(high, low, close, lookback\u001b[39m=\u001b[39;49m\u001b[39m10\u001b[39;49m, multiplier\u001b[39m=\u001b[39;49m\u001b[39m3\u001b[39;49m)\n",
      "Cell \u001b[1;32mIn[6], line 55\u001b[0m, in \u001b[0;36mget_supertrend\u001b[1;34m(high, low, close, lookback, multiplier)\u001b[0m\n\u001b[0;32m     52\u001b[0m close \u001b[39m=\u001b[39m close\u001b[39m.\u001b[39miloc[\u001b[39mlen\u001b[39m(close) \u001b[39m-\u001b[39m \u001b[39mlen\u001b[39m(supertrend):]\n\u001b[0;32m     54\u001b[0m \u001b[39mfor\u001b[39;00m i \u001b[39min\u001b[39;00m \u001b[39mrange\u001b[39m(\u001b[39mlen\u001b[39m(supertrend)):\n\u001b[1;32m---> 55\u001b[0m     \u001b[39mif\u001b[39;00m close[i] \u001b[39m>\u001b[39m supertrend\u001b[39m.\u001b[39miloc[i, \u001b[39m0\u001b[39m]:\n\u001b[0;32m     56\u001b[0m         upt\u001b[39m.\u001b[39mappend(supertrend\u001b[39m.\u001b[39miloc[i, \u001b[39m0\u001b[39m])\n\u001b[0;32m     57\u001b[0m         dt\u001b[39m.\u001b[39mappend(np\u001b[39m.\u001b[39mnan)\n",
      "File \u001b[1;32mc:\\Users\\yswav\\anaconda3\\lib\\site-packages\\pandas\\core\\series.py:981\u001b[0m, in \u001b[0;36mSeries.__getitem__\u001b[1;34m(self, key)\u001b[0m\n\u001b[0;32m    978\u001b[0m     \u001b[39mreturn\u001b[39;00m \u001b[39mself\u001b[39m\u001b[39m.\u001b[39m_values[key]\n\u001b[0;32m    980\u001b[0m \u001b[39melif\u001b[39;00m key_is_scalar:\n\u001b[1;32m--> 981\u001b[0m     \u001b[39mreturn\u001b[39;00m \u001b[39mself\u001b[39;49m\u001b[39m.\u001b[39;49m_get_value(key)\n\u001b[0;32m    983\u001b[0m \u001b[39mif\u001b[39;00m is_hashable(key):\n\u001b[0;32m    984\u001b[0m     \u001b[39m# Otherwise index.get_value will raise InvalidIndexError\u001b[39;00m\n\u001b[0;32m    985\u001b[0m     \u001b[39mtry\u001b[39;00m:\n\u001b[0;32m    986\u001b[0m         \u001b[39m# For labels that don't resolve as scalars like tuples and frozensets\u001b[39;00m\n",
      "File \u001b[1;32mc:\\Users\\yswav\\anaconda3\\lib\\site-packages\\pandas\\core\\series.py:1089\u001b[0m, in \u001b[0;36mSeries._get_value\u001b[1;34m(self, label, takeable)\u001b[0m\n\u001b[0;32m   1086\u001b[0m     \u001b[39mreturn\u001b[39;00m \u001b[39mself\u001b[39m\u001b[39m.\u001b[39m_values[label]\n\u001b[0;32m   1088\u001b[0m \u001b[39m# Similar to Index.get_value, but we do not fall back to positional\u001b[39;00m\n\u001b[1;32m-> 1089\u001b[0m loc \u001b[39m=\u001b[39m \u001b[39mself\u001b[39;49m\u001b[39m.\u001b[39;49mindex\u001b[39m.\u001b[39;49mget_loc(label)\n\u001b[0;32m   1090\u001b[0m \u001b[39mreturn\u001b[39;00m \u001b[39mself\u001b[39m\u001b[39m.\u001b[39mindex\u001b[39m.\u001b[39m_get_values_for_loc(\u001b[39mself\u001b[39m, loc, label)\n",
      "File \u001b[1;32mc:\\Users\\yswav\\anaconda3\\lib\\site-packages\\pandas\\core\\indexes\\range.py:393\u001b[0m, in \u001b[0;36mRangeIndex.get_loc\u001b[1;34m(self, key, method, tolerance)\u001b[0m\n\u001b[0;32m    391\u001b[0m         \u001b[39mreturn\u001b[39;00m \u001b[39mself\u001b[39m\u001b[39m.\u001b[39m_range\u001b[39m.\u001b[39mindex(new_key)\n\u001b[0;32m    392\u001b[0m     \u001b[39mexcept\u001b[39;00m \u001b[39mValueError\u001b[39;00m \u001b[39mas\u001b[39;00m err:\n\u001b[1;32m--> 393\u001b[0m         \u001b[39mraise\u001b[39;00m \u001b[39mKeyError\u001b[39;00m(key) \u001b[39mfrom\u001b[39;00m \u001b[39merr\u001b[39;00m\n\u001b[0;32m    394\u001b[0m \u001b[39mself\u001b[39m\u001b[39m.\u001b[39m_check_indexing_error(key)\n\u001b[0;32m    395\u001b[0m \u001b[39mraise\u001b[39;00m \u001b[39mKeyError\u001b[39;00m(key)\n",
      "\u001b[1;31mKeyError\u001b[0m: 0"
     ]
    }
   ],
   "source": [
    "df['st'], df['s_upt'], df['st_dt'] = get_supertrend(high, low, close, lookback=10, multiplier=3)"
   ]
  },
  {
   "cell_type": "code",
   "execution_count": null,
   "metadata": {},
   "outputs": [],
   "source": [
    "\n",
    "# Calculate the Average True Range (ATR) using tulipy\n",
    "atr_period = 14  # You can adjust this value as per your preference\n",
    "atr = ti.atr(df['high'].values, df['low'].values, df['close'].values, atr_period)"
   ]
  },
  {
   "cell_type": "code",
   "execution_count": null,
   "metadata": {},
   "outputs": [],
   "source": [
    "df = df.drop(index=df.index[:len(df) - len(atr)])\n",
    "df['atr'] = atr\n",
    "print(df)"
   ]
  },
  {
   "cell_type": "code",
   "execution_count": null,
   "metadata": {},
   "outputs": [],
   "source": [
    "\n",
    "# Calculate the Weekly Volume-Weighted Average Price (VWAP)\n",
    "# Assuming you have a column 'vwap_weekly' in your DataFrame representing the weekly VWAP\n",
    "# If not, you can calculate it using the following:\n",
    "# df['vwap_weekly'] = df['close'] * df['volume'] / df['volume'].rolling(window=5).sum()\n",
    "# # You can adjust the window size (5 in this case) to calculate the VWAP as per your requirement\n"
   ]
  },
  {
   "cell_type": "code",
   "execution_count": null,
   "metadata": {},
   "outputs": [],
   "source": [
    "def vwap(df):\n",
    "    q = df.volume.values\n",
    "    p = df.close.values\n",
    "    return df.assign(vwap=(p * q).cumsum() / q.cumsum())\n",
    "\n",
    "df = vwap(df)"
   ]
  },
  {
   "cell_type": "code",
   "execution_count": null,
   "metadata": {},
   "outputs": [],
   "source": [
    "df"
   ]
  },
  {
   "cell_type": "code",
   "execution_count": null,
   "metadata": {},
   "outputs": [],
   "source": [
    "\n",
    "# Define your buy and sell conditions\n",
    "buy_condition = (df['close'] > df['atr']) & (df['close'] > df['vwap_weekly'])\n",
    "sell_condition = (df['close'] < df['atr']) & (df['close'] < df['vwap_weekly'])\n"
   ]
  },
  {
   "cell_type": "code",
   "execution_count": null,
   "metadata": {},
   "outputs": [],
   "source": [
    "df"
   ]
  },
  {
   "cell_type": "code",
   "execution_count": null,
   "metadata": {},
   "outputs": [],
   "source": [
    "df[['close', 'vwap_weekly','atr']].plot()"
   ]
  },
  {
   "cell_type": "code",
   "execution_count": null,
   "metadata": {},
   "outputs": [],
   "source": [
    "\n",
    "# Initialize a new column to hold trading signals\n",
    "df['signal'] = 0\n",
    "\n",
    "# Apply the strategy based on the conditions\n",
    "df.loc[buy_condition, 'signal'] = 1  # Buy signal\n",
    "df.loc[sell_condition, 'signal'] = -1  # Sell signal\n",
    "\n",
    "# Backtest the strategy (assuming you have a 'position' column representing the current position)\n",
    "# If the 'signal' is 1, buy the instrument\n",
    "# If the 'signal' is -1, sell the instrument\n",
    "# If the 'signal' is 0, do nothing\n",
    "\n",
    "df['position'] = df['signal'].diff().fillna(0)\n",
    "\n",
    "# Calculate the strategy returns\n",
    "df['strategy_returns'] = df['position'] * df['close'].pct_change().fillna(0)\n",
    "\n",
    "# Calculate the cumulative returns\n",
    "df['cumulative_returns'] = (1 + df['strategy_returns']).cumprod()\n",
    "\n",
    "# Plot the cumulative returns to visualize the performance of the strategy\n",
    "df['cumulative_returns'].plot(figsize=(10, 6))"
   ]
  },
  {
   "cell_type": "code",
   "execution_count": null,
   "metadata": {},
   "outputs": [],
   "source": []
  }
 ],
 "metadata": {
  "kernelspec": {
   "display_name": "base",
   "language": "python",
   "name": "python3"
  },
  "language_info": {
   "codemirror_mode": {
    "name": "ipython",
    "version": 3
   },
   "file_extension": ".py",
   "mimetype": "text/x-python",
   "name": "python",
   "nbconvert_exporter": "python",
   "pygments_lexer": "ipython3",
   "version": "3.10.9"
  },
  "orig_nbformat": 4
 },
 "nbformat": 4,
 "nbformat_minor": 2
}
